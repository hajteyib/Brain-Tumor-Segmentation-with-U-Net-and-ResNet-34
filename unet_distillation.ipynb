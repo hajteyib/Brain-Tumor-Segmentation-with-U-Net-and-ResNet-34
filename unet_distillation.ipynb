{
  "cells": [
    {
      "cell_type": "markdown",
      "metadata": {
        "id": "SHiEuoWuIfy5"
      },
      "source": [
        "\n",
        "# **Segmentation des IRM Cérébrales avec U-Net et Distillation de Connaissances**  \n",
        "---\n",
        "\n",
        "**Projet réalisé par :**  \n",
        " *Elhaj EBOU*  "
      ]
    },
    {
      "cell_type": "markdown",
      "metadata": {
        "id": "3lw2cMZwgcr0"
      },
      "source": [
        "la **preparation** de la dataset"
      ]
    },
    {
      "cell_type": "code",
      "execution_count": null,
      "metadata": {
        "colab": {
          "base_uri": "https://localhost:8080/"
        },
        "id": "0XMjtzIDra0H",
        "outputId": "b7f98f88-a56d-48cc-c926-35a72e2e0b11"
      },
      "outputs": [
        {
          "name": "stdout",
          "output_type": "stream",
          "text": [
            "Requirement already satisfied: h5py in /usr/local/lib/python3.11/dist-packages (3.12.1)\n",
            "Requirement already satisfied: numpy>=1.19.3 in /usr/local/lib/python3.11/dist-packages (from h5py) (1.26.4)\n"
          ]
        }
      ],
      "source": [
        "!pip install h5py"
      ]
    },
    {
      "cell_type": "code",
      "execution_count": 2,
      "metadata": {
        "colab": {
          "base_uri": "https://localhost:8080/"
        },
        "id": "VISK_9Zhg0AL",
        "outputId": "c0a5c967-a8b6-4c17-bfdc-e6a5c8491334"
      },
      "outputs": [
        {
          "name": "stdout",
          "output_type": "stream",
          "text": [
            "Mounted at /content/drive\n"
          ]
        }
      ],
      "source": [
        "from google.colab import drive\n",
        "import os\n",
        "\n",
        "# Monter Google Drive\n",
        "drive.mount('/content/drive')"
      ]
    },
    {
      "cell_type": "code",
      "execution_count": 2,
      "metadata": {
        "colab": {
          "base_uri": "https://localhost:8080/"
        },
        "id": "CctLoR-j8Y9P",
        "outputId": "0bdc4dd4-fb3f-4d7b-998d-822ed13e0bfa"
      },
      "outputs": [
        {
          "name": "stdout",
          "output_type": "stream",
          "text": [
            "cpu\n"
          ]
        }
      ],
      "source": [
        "import torch\n",
        "\n",
        "device = torch.device(\"cuda\" if torch.cuda.is_available() else \"cpu\")\n",
        "print(device)"
      ]
    },
    {
      "cell_type": "markdown",
      "metadata": {
        "id": "TLtH2OdtmHmC"
      },
      "source": [
        "# **Définition du Dataset et Prétraitement des Données**\n",
        "---"
      ]
    },
    {
      "cell_type": "code",
      "execution_count": null,
      "metadata": {
        "id": "xlFPLXFEczx5"
      },
      "outputs": [],
      "source": [
        "import torch\n",
        "from torch.utils.data import Dataset, DataLoader\n",
        "import h5py\n",
        "import numpy as np\n",
        "import os\n",
        "import torch.nn.functional as F\n",
        "\n",
        "\n",
        "class BraTSDataset(Dataset):\n",
        "    def __init__(self, file_paths, data_dir):\n",
        "        self.file_paths = file_paths\n",
        "        self.data_dir = data_dir\n",
        "\n",
        "    def __len__(self):\n",
        "        return len(self.file_paths)\n",
        "\n",
        "    def __getitem__(self, idx):\n",
        "        file_path = os.path.join(self.data_dir, self.file_paths[idx])\n",
        "\n",
        "        with h5py.File(file_path, \"r\") as f:\n",
        "            image = np.array(f[\"image\"], dtype=np.float32)  # (240, 240, 4)\n",
        "            mask = np.array(f[\"mask\"], dtype=np.uint8)  # (240, 240, 3) ou (240, 240)\n",
        "\n",
        "        # Assurer que l'image est bien en (C, H, W)\n",
        "        image = np.moveaxis(image, -1, 0)  # (H, W, C) -> (C, H, W)\n",
        "\n",
        "        # Si le masque est one-hot avec 3 canaux, convertir en classes\n",
        "        if mask.ndim == 3 and mask.shape[-1] == 3:\n",
        "            mask = np.argmax(mask, axis=-1)  # (H, W, 3) -> (H, W)\n",
        "\n",
        "        # Normalisation de l’image (0 à 1)\n",
        "        if np.max(image) > np.min(image):\n",
        "            image = (image - np.min(image)) / (np.max(image) - np.min(image) + 1e-8)\n",
        "        else:\n",
        "            image = np.zeros_like(image)\n",
        "\n",
        "        # Convertir en tenseurs PyTorch\n",
        "        image = torch.tensor(image, dtype=torch.float32)  # (4, 240, 240)\n",
        "        mask = torch.tensor(mask, dtype=torch.long)  # (240, 240)\n",
        "\n",
        "        # Redimensionner à (256, 256)\n",
        "        image = F.interpolate(image.unsqueeze(0), size=(256, 256), mode=\"bilinear\", align_corners=False).squeeze(0)\n",
        "        mask = F.interpolate(mask.unsqueeze(0).unsqueeze(0).float(), size=(256, 256), mode=\"nearest\").squeeze(0).squeeze(0).long()\n",
        "\n",
        "        return image, mask\n",
        "\n",
        "\n",
        "# Chemin des fichiers `.h5`\n",
        "data_dir = \"/content/drive/MyDrive/Eby/tumor_segmentation/BraTS2020_training_data/content/data\"\n",
        "\n",
        "all_files = sorted([f for f in os.listdir(data_dir) if f.endswith(\".h5\")])\n",
        "file_paths = all_files[:10000]\n",
        "\n",
        "# Définition des proportions pour train et validation\n",
        "train_size = int(0.8 * len(file_paths))\n",
        "valid_size = len(file_paths) - train_size\n",
        "\n",
        "# Split des fichiers\n",
        "train_files = file_paths[:train_size]\n",
        "valid_files = file_paths[train_size:]\n",
        "\n",
        "# Création des datasets et DataLoaders\n",
        "train_dataset = BraTSDataset(train_files, data_dir)\n",
        "valid_dataset = BraTSDataset(valid_files, data_dir)\n",
        "\n",
        "train_loader = DataLoader(train_dataset, batch_size=16, shuffle=True, num_workers=0)\n",
        "valid_loader = DataLoader(valid_dataset, batch_size=16, shuffle=False, num_workers=0)\n"
      ]
    },
    {
      "cell_type": "markdown",
      "metadata": {
        "id": "zpElvuJPLn_a"
      },
      "source": [
        "# **Les modalites disponibles dans le dataset Brat2020**"
      ]
    },
    {
      "cell_type": "code",
      "execution_count": null,
      "metadata": {
        "colab": {
          "base_uri": "https://localhost:8080/",
          "height": 346
        },
        "id": "FBzdNvRqzmbV",
        "outputId": "81805731-bb21-4548-f452-2e0204bdc05a"
      },
      "outputs": [
        {
          "name": "stdout",
          "output_type": "stream",
          "text": [
            " Clés disponibles dans le fichier HDF5 : ['image', 'mask']\n",
            " Taille de l'image : (240, 240, 4)\n",
            " Taille du masque : (240, 240, 3)\n",
            " Image - Min: -0.4143970639208053 Max: 7.892163651379495 Moyenne: -1.0880185641326534e-16\n",
            " Masque - Unique values: [0 1]\n"
          ]
        },
        {
          "data": {
            "image/png": "[encoded data removed]",
            "text/plain": [
              "<Figure size 1500x500 with 5 Axes>"
            ]
          },
          "metadata": {},
          "output_type": "display_data"
        }
      ],
      "source": [
        "import h5py\n",
        "import numpy as np\n",
        "import matplotlib.pyplot as plt\n",
        "\n",
        "file_path = \"/content/drive/MyDrive/Eby/tumor_segmentation/BraTS2020_training_data/content/data/volume_1_slice_39.h5\"\n",
        "\n",
        "with h5py.File(file_path, \"r\") as f:\n",
        "    print(\" Clés disponibles dans le fichier HDF5 :\", list(f.keys()))\n",
        "\n",
        "    # Chargement de l’image et du masque\n",
        "    image = np.array(f[\"image\"])\n",
        "    mask = np.array(f[\"mask\"])\n",
        "\n",
        "    # Affichage des statistiques de l’image\n",
        "    print(\" Taille de l'image :\", image.shape)\n",
        "    print(\" Taille du masque :\", mask.shape)\n",
        "    print(\" Image - Min:\", image.min(), \"Max:\", image.max(), \"Moyenne:\", image.mean())\n",
        "    print(\" Masque - Unique values:\", np.unique(mask))  # Vérification des classes du masque\n",
        "\n",
        "#  Affichage des modalités IRM et du masque\n",
        "modalities = [\"FLAIR\", \"T1\", \"T1ce\", \"T2\"]\n",
        "\n",
        "fig, axes = plt.subplots(1, 5, figsize=(15, 5))\n",
        "\n",
        "# Affichage des 4 modalités IRM\n",
        "for i in range(4):\n",
        "    axes[i].imshow(image[:, :, i], cmap=\"gray\")\n",
        "    axes[i].set_title(modalities[i])\n",
        "    axes[i].axis(\"off\")\n",
        "\n",
        "axes[4].imshow(mask, cmap=\"hot\", alpha=0.7)\n",
        "axes[4].set_title(\"Ground Truth\")\n",
        "axes[4].axis(\"off\")\n",
        "\n",
        "plt.show()\n"
      ]
    },
    {
      "cell_type": "markdown",
      "metadata": {
        "id": "6sisZKc4j9v2"
      },
      "source": [
        "# **La Définition des Modèles**\n"
      ]
    },
    {
      "cell_type": "markdown",
      "metadata": {
        "id": "GcrpFa5Ih5au"
      },
      "source": [
        "L'architecture des modèles Teacher et Étudiant\n"
      ]
    },
    {
      "cell_type": "code",
      "execution_count": 3,
      "metadata": {
        "id": "Z6cKMWpfj8yu"
      },
      "outputs": [],
      "source": [
        "device = torch.device(\"cuda\" if torch.cuda.is_available() else \"cpu\")\n",
        "\n",
        "\n",
        "import torch.nn as nn\n",
        "\n",
        "class DoubleConv(nn.Module):\n",
        "    def __init__(self, in_channels, out_channels):\n",
        "        super(DoubleConv, self).__init__()\n",
        "        self.conv = nn.Sequential(\n",
        "            nn.Conv2d(in_channels, out_channels, kernel_size=3, padding=1),\n",
        "            nn.BatchNorm2d(out_channels),\n",
        "            nn.ReLU(inplace=True),\n",
        "            nn.Conv2d(out_channels, out_channels, kernel_size=3, padding=1),\n",
        "            nn.BatchNorm2d(out_channels),\n",
        "            nn.ReLU(inplace=True)\n",
        "        )\n",
        "\n",
        "    def forward(self, x):\n",
        "        return self.conv(x)\n",
        "\n",
        "\n",
        "class UNet(nn.Module):\n",
        "    def __init__(self, in_channels=4, num_classes=4):\n",
        "        super(UNet, self).__init__()\n",
        "\n",
        "        self.enc1 = DoubleConv(in_channels, 64)\n",
        "        self.enc2 = DoubleConv(64, 128)\n",
        "        self.enc3 = DoubleConv(128, 256)\n",
        "        self.enc4 = DoubleConv(256, 512)\n",
        "\n",
        "        self.pool = nn.MaxPool2d(kernel_size=2, stride=2)\n",
        "        self.bottleneck = DoubleConv(512, 1024)\n",
        "\n",
        "        self.up4 = nn.ConvTranspose2d(1024, 512, kernel_size=2, stride=2)\n",
        "        self.dec4 = DoubleConv(1024, 512)\n",
        "\n",
        "        self.up3 = nn.ConvTranspose2d(512, 256, kernel_size=2, stride=2)\n",
        "        self.dec3 = DoubleConv(512, 256)\n",
        "\n",
        "        self.up2 = nn.ConvTranspose2d(256, 128, kernel_size=2, stride=2)\n",
        "        self.dec2 = DoubleConv(256, 128)\n",
        "\n",
        "        self.up1 = nn.ConvTranspose2d(128, 64, kernel_size=2, stride=2)\n",
        "        self.dec1 = DoubleConv(128, 64)\n",
        "\n",
        "        self.final_conv = nn.Conv2d(64, num_classes, kernel_size=1)\n",
        "\n",
        "    def forward(self, x):\n",
        "        e1 = self.enc1(x)\n",
        "        e2 = self.enc2(self.pool(e1))\n",
        "        e3 = self.enc3(self.pool(e2))\n",
        "        e4 = self.enc4(self.pool(e3))\n",
        "\n",
        "        b = self.bottleneck(self.pool(e4))\n",
        "\n",
        "        d4 = self.dec4(torch.cat([self.up4(b), e4], dim=1))\n",
        "        d3 = self.dec3(torch.cat([self.up3(d4), e3], dim=1))\n",
        "        d2 = self.dec2(torch.cat([self.up2(d3), e2], dim=1))\n",
        "        d1 = self.dec1(torch.cat([self.up1(d2), e1], dim=1))\n",
        "\n",
        "        return self.final_conv(d1)\n",
        "\n",
        "class UNetStudent(nn.Module):\n",
        "    def __init__(self, in_channels=4, num_classes=4):\n",
        "        super(UNetStudent, self).__init__()\n",
        "\n",
        "        self.enc1 = DoubleConv(in_channels, 32)\n",
        "        self.enc2 = DoubleConv(32, 64)\n",
        "        self.enc3 = DoubleConv(64, 128)\n",
        "\n",
        "        self.pool = nn.MaxPool2d(kernel_size=2, stride=2)\n",
        "        self.bottleneck = DoubleConv(128, 256)\n",
        "\n",
        "        self.up3 = nn.ConvTranspose2d(256, 128, kernel_size=2, stride=2)\n",
        "        self.dec3 = DoubleConv(256, 128)\n",
        "\n",
        "        self.up2 = nn.ConvTranspose2d(128, 64, kernel_size=2, stride=2)\n",
        "        self.dec2 = DoubleConv(128, 64)\n",
        "\n",
        "        self.up1 = nn.ConvTranspose2d(64, 32, kernel_size=2, stride=2)\n",
        "        self.dec1 = DoubleConv(64, 32)\n",
        "\n",
        "        self.final_conv = nn.Conv2d(32, num_classes, kernel_size=1)\n",
        "\n",
        "    def forward(self, x):\n",
        "        e1 = self.enc1(x)\n",
        "        e2 = self.enc2(self.pool(e1))\n",
        "        e3 = self.enc3(self.pool(e2))\n",
        "\n",
        "        b = self.bottleneck(self.pool(e3))\n",
        "\n",
        "        d3 = self.dec3(torch.cat([self.up3(b), e3], dim=1))\n",
        "        d2 = self.dec2(torch.cat([self.up2(d3), e2], dim=1))\n",
        "        d1 = self.dec1(torch.cat([self.up1(d2), e1], dim=1))\n",
        "\n",
        "        return self.final_conv(d1)\n",
        "\n",
        "\n",
        "# Initialisation des modèles Teacher et Student\n",
        "teacher_model = UNet().to(device)\n",
        "\n",
        "\n",
        "student_model = UNetStudent().to(device)\n"
      ]
    },
    {
      "cell_type": "markdown",
      "metadata": {
        "id": "BrrwmUnI0lvp"
      },
      "source": [
        "# Definition des **loss** et du **score** functions"
      ]
    },
    {
      "cell_type": "code",
      "execution_count": 4,
      "metadata": {
        "id": "XIASSdo10q6t"
      },
      "outputs": [],
      "source": [
        "import torch.optim as optim\n",
        "\n",
        "def dice_loss(preds, targets, smooth=1e-6):\n",
        "    preds = torch.softmax(preds, dim=1)\n",
        "    targets_onehot = F.one_hot(targets, num_classes=4).permute(0, 3, 1, 2)\n",
        "\n",
        "    intersection = (preds * targets_onehot).sum(dim=(2, 3))\n",
        "    union = preds.sum(dim=(2, 3)) + targets_onehot.sum(dim=(2, 3))\n",
        "    dice = (2. * intersection + smooth) / (union + smooth)\n",
        "\n",
        "    return 1 - dice.mean()\n",
        "\n",
        "\n",
        "\n",
        "def dice_score(preds, targets, smooth=1e-6):\n",
        "    preds = torch.argmax(preds, dim=1)  # Convertir en classes prédictes (batch, H, W)\n",
        "    preds_onehot = F.one_hot(preds, num_classes=4).permute(0, 3, 1, 2)  # (batch, classes, H, W)\n",
        "    targets_onehot = F.one_hot(targets, num_classes=4).permute(0, 3, 1, 2)  # (batch, classes, H, W)\n",
        "\n",
        "    intersection = (preds_onehot * targets_onehot).sum(dim=(2, 3))  # Somme des pixels communs\n",
        "    union = preds_onehot.sum(dim=(2, 3)) + targets_onehot.sum(dim=(2, 3))  # Somme totale\n",
        "\n",
        "    dice = (2. * intersection + smooth) / (union + smooth)  # Formule du Dice Score\n",
        "    return dice.mean()\n",
        "\n",
        "    # Définition de la distillation loss (Kullback-Leibler Divergence)\n",
        "def distillation_loss(student_preds, teacher_preds, temperature=2):\n",
        "    \"\"\"\n",
        "    Calcule la perte de distillation entre les prédictions du modèle Student et celles du modèle Teacher.\n",
        "    \"\"\"\n",
        "    student_soft = F.log_softmax(student_preds / temperature, dim=1)\n",
        "    teacher_soft = F.softmax(teacher_preds / temperature, dim=1)\n",
        "\n",
        "    return F.kl_div(student_soft, teacher_soft, reduction=\"batchmean\") * (temperature ** 2)\n",
        "\n",
        "# Définition de la loss totale (Distillation + Dice Loss)\n",
        "def total_loss(student_preds, teacher_preds, true_masks, alpha=0.5):\n",
        "    \"\"\"\n",
        "    Combine la distillation loss et la dice loss.\n",
        "    \"\"\"\n",
        "    loss_dice = dice_loss(student_preds, true_masks)  # Dice Loss\n",
        "    loss_distill = distillation_loss(student_preds, teacher_preds)  # KL Divergence\n",
        "\n",
        "    return alpha * loss_distill + (1 - alpha) * loss_dice\n",
        "\n",
        "88\n"
      ]
    },
    {
      "cell_type": "markdown",
      "metadata": {
        "id": "VoAb01-floZi"
      },
      "source": [
        "# L'entrainement des models **Teacher** et **Student**"
      ]
    },
    {
      "cell_type": "code",
      "execution_count": null,
      "metadata": {
        "id": "GTYj2N79ltll"
      },
      "outputs": [],
      "source": [
        "\n",
        "def evaluate_model(model, valid_loader):\n",
        "    model.to(device)\n",
        "    model.eval()\n",
        "\n",
        "    valid_loss = []\n",
        "    valid_dice = []\n",
        "\n",
        "    with torch.no_grad():\n",
        "        for images, masks in valid_loader:\n",
        "            images, masks = images.to(device), masks.to(device)\n",
        "\n",
        "            outputs = model(images)\n",
        "            loss = dice_loss(outputs, masks)\n",
        "\n",
        "            dice = dice_score(outputs, masks)\n",
        "            valid_dice.append(dice.item())\n",
        "\n",
        "            valid_loss.append(loss.item())\n",
        "\n",
        "    print(f\"Validation Loss: {np.mean(valid_loss):.4f} | Validation Dice Score: {np.mean(valid_dice):.4f}\")\n",
        "\n",
        "\n",
        "\n",
        "\n",
        "\n",
        "def train_student(student_model, teacher_model, train_loader, valid_loader, optimizer, num_epochs=10):\n",
        "    student_model.train()\n",
        "    teacher_model.eval()\n",
        "\n",
        "    for epoch in range(num_epochs):\n",
        "        train_loss = []\n",
        "\n",
        "        for images, masks in train_loader:\n",
        "            images, masks = images.to(device), masks.to(device)\n",
        "\n",
        "            optimizer.zero_grad()\n",
        "\n",
        "            # Prédictions du modèle Student\n",
        "            student_preds = student_model(images)\n",
        "\n",
        "            # Prédictions du modèle Teacher (pas de gradient)\n",
        "            with torch.no_grad():\n",
        "                teacher_preds = teacher_model(images)\n",
        "\n",
        "            # Calcul de la perte\n",
        "            loss = total_loss(student_preds, teacher_preds, masks)\n",
        "            loss.backward()\n",
        "            optimizer.step()\n",
        "\n",
        "            train_loss.append(loss.item())\n",
        "\n",
        "        print(f\"Epoch {epoch+1}/{num_epochs} | Train Loss: {np.mean(train_loss):.4f}\")\n",
        "\n",
        "        # Évaluation sur le dataset de validation\n",
        "        evaluate_model(student_model, valid_loader)\n",
        "\n",
        "        # Sauvegarde du modèle Student après chaque epoch\n",
        "        torch.save(student_model.state_dict(), \"/content/drive/MyDrive/Eby/tumor_segmentation/best_model_student/unet_student.pth\")\n",
        "        print(\"Modèle Student sauvegardé.\\n\")\n",
        "\n",
        "\n",
        "\n",
        "def train_model(model, train_loader, valid_loader, loss_fn, optimizer, num_epochs=10):\n",
        "\n",
        "    for epoch in range(num_epochs):\n",
        "        model.train()\n",
        "        train_loss = []\n",
        "        train_dice = []\n",
        "\n",
        "        for images, masks in train_loader:\n",
        "            images, masks = images.to(device), masks.to(device)\n",
        "\n",
        "            optimizer.zero_grad()\n",
        "            outputs = model(images)\n",
        "            loss = loss_fn(outputs, masks).to(device)\n",
        "            loss.backward()\n",
        "            optimizer.step()\n",
        "\n",
        "            dice = dice_score(outputs, masks)\n",
        "            train_dice.append(dice.item())\n",
        "\n",
        "            train_loss.append(loss.item())\n",
        "\n",
        "        avg_train_loss = np.mean(train_loss)\n",
        "        avg_train_dice = np.mean(train_dice)\n",
        "\n",
        "        print(f\"Epoch {epoch+1}/{num_epochs} | Train Loss: {avg_train_loss:.4f} | Train Dice Score: {avg_train_dice:.4f}\")\n",
        "\n",
        "        # Évaluer sur le jeu de validation après chaque epoch\n",
        "        evaluate_model(model, valid_loader)\n",
        "        torch.save(model.state_dict(), \"/content/drive/MyDrive/Eby/tumor_segmentation/best_model_teacher/unet_model.pth\")\n",
        "        print(\"Modèle Teacher sauvegardé.\")\n",
        "\n",
        "#  Optimiseur pour le modèle Teacher\n",
        "optimizer_teacher = optim.Adam(teacher_model.parameters(), lr=1e-4)\n",
        "\n",
        "\n",
        "# LEntraînement du modèle Teacher\n",
        "train_model(teacher_model, train_loader, valid_loader, dice_loss, optimizer_teacher, num_epochs=10)\n",
        "\n",
        "# Optimiseur pour le modèle Student\n",
        "optimizer_student = optim.Adam(student_model.parameters(), lr=1e-4)\n",
        "\n",
        "# Entraînement du modèle Student\n",
        "train_student(student_model, teacher_model, train_loader, valid_loader, optimizer_student, num_epochs=10)\n"
      ]
    },
    {
      "cell_type": "markdown",
      "metadata": {
        "id": "V0vOvtw20SEs"
      },
      "source": [
        "# **La visualisation des *Prediction* des models sur la validation set**"
      ]
    },
    {
      "cell_type": "code",
      "execution_count": 4,
      "metadata": {
        "id": "MPz24uzo0VYa"
      },
      "outputs": [],
      "source": [
        "import random\n",
        "\n",
        "teacher_model.load_state_dict(torch.load(\"/content/drive/MyDrive/Eby/tumor_segmentation/best_model_teacher/unet_model.pth\", map_location=device))\n",
        "teacher_model.eval()\n",
        "student_model.load_state_dict(torch.load(\"/content/drive/MyDrive/Eby/tumor_segmentation/best_model_student/unet_student4.pth\", map_location=device))\n",
        "student_model.eval()\n",
        "# Sélectionner 5 indices aléatoires du dataset de validation\n",
        "indices = random.sample(range(len(valid_dataset)), 5)  # 5 images pour une meilleure lisibilité\n",
        "\n",
        "# Préparer les images, masques réels et prédits\n",
        "images_np = []\n",
        "true_masks_np = []\n",
        "teacher_masks_np = []\n",
        "student_masks_np = []\n",
        "\n",
        "for idx in indices:\n",
        "    image, true_mask = valid_dataset[idx]\n",
        "\n",
        "    # Ajouter une dimension batch et envoyer au GPU si disponible\n",
        "    image = image.unsqueeze(0).to(device)  # (1, 4, 256, 256)\n",
        "    true_mask = true_mask.to(device)  # (256, 256)\n",
        "\n",
        "    # Prédiction du modèle Teacher\n",
        "    with torch.no_grad():\n",
        "        teacher_pred_mask = teacher_model(image)\n",
        "        teacher_pred_mask = torch.argmax(teacher_pred_mask, dim=1).squeeze(0)\n",
        "\n",
        "    # Prédiction du modèle Student\n",
        "    with torch.no_grad():\n",
        "        student_pred_mask = student_model(image)\n",
        "        student_pred_mask = torch.argmax(student_pred_mask, dim=1).squeeze(0)\n",
        "\n",
        "    # Convertir en numpy pour affichage\n",
        "    images_np.append(image.squeeze(0).cpu().numpy()[0])  # Prendre le premier canal (FLAIR)\n",
        "    true_masks_np.append(true_mask.cpu().numpy())\n",
        "    teacher_masks_np.append(teacher_pred_mask.cpu().numpy())\n",
        "    student_masks_np.append(student_pred_mask.cpu().numpy())\n",
        "\n",
        "# Définir la figure pour afficher les images en colonne\n",
        "fig, axes = plt.subplots(nrows=5, ncols=4, figsize=(15, 20))\n",
        "\n",
        "for i in range(5):\n",
        "    axes[i, 0].imshow(images_np[i], cmap=\"gray\")\n",
        "    axes[i, 0].set_title(f\"Image {i+1} (FLAIR)\")\n",
        "    axes[i, 0].axis(\"off\")\n",
        "\n",
        "    axes[i, 1].imshow(true_masks_np[i], cmap=\"jet\")\n",
        "    axes[i, 1].set_title(f\"Masque Réel {i+1}\")\n",
        "    axes[i, 1].axis(\"off\")\n",
        "\n",
        "    axes[i, 2].imshow(teacher_masks_np[i], cmap=\"jet\")\n",
        "    axes[i, 2].set_title(f\"Masque Teacher {i+1}\")\n",
        "    axes[i, 2].axis(\"off\")\n",
        "\n",
        "    axes[i, 3].imshow(student_masks_np[i], cmap=\"jet\")\n",
        "    axes[i, 3].set_title(f\"Masque Student {i+1}\")\n",
        "    axes[i, 3].axis(\"off\")\n",
        "\n",
        "plt.tight_layout()\n",
        "plt.show()"
      ]
    },
    {
      "cell_type": "code",
      "execution_count": null,
      "metadata": {
        "id": "-LrkHbNdP2t8"
      },
      "outputs": [],
      "source": []
    }
  ],
  "metadata": {
    "colab": {
      "provenance": []
    },
    "kernelspec": {
      "display_name": "Python 3",
      "name": "python3"
    },
    "language_info": {
      "name": "python"
    }
  },
  "nbformat": 4,
  "nbformat_minor": 0
}
